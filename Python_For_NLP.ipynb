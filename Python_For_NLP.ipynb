{
 "cells": [
  {
   "cell_type": "markdown",
   "metadata": {},
   "source": [
    "# Python Basic"
   ]
  },
  {
   "cell_type": "markdown",
   "metadata": {},
   "source": [
    "List"
   ]
  },
  {
   "cell_type": "code",
   "execution_count": 4,
   "metadata": {},
   "outputs": [
    {
     "name": "stdout",
     "output_type": "stream",
     "text": [
      "['apple', 'banana', 'peach', 'cherry', 'orange']\n",
      "['apple', 'banana', 'peach', 'cherry', 'orange', 'strawberry']\n",
      "['apple', 'banana', 'peach', 'cherry', 'lichee', 'orange', 'strawberry']\n",
      "['banana', 'peach', 'cherry', 'lichee', 'orange', 'strawberry']\n",
      "['strawberry', 'orange', 'lichee', 'cherry', 'peach', 'banana']\n"
     ]
    }
   ],
   "source": [
    "mylist = [\"apple\", \"banana\", \"peach\", \"cherry\", \"orange\"]\n",
    "print(mylist)\n",
    "mylist.append(\"strawberry\")\n",
    "print(mylist)\n",
    "mylist.insert(4,\"lichee\")\n",
    "print(mylist)\n",
    "mylist.remove(\"apple\")\n",
    "print(mylist)\n",
    "mylist.reverse()\n",
    "print(mylist)"
   ]
  },
  {
   "cell_type": "markdown",
   "metadata": {},
   "source": [
    "Tuple"
   ]
  },
  {
   "cell_type": "code",
   "execution_count": 11,
   "metadata": {},
   "outputs": [
    {
     "name": "stdout",
     "output_type": "stream",
     "text": [
      "('german', 'french', 'hindi', 'marathi', 'english')\n",
      "('hindi', 'marathi', 'english')\n",
      "german\n",
      "5\n",
      "('german', 'french', 'hindi', 'marathi', 'english', 1, 2, 3, 4, 5)\n"
     ]
    }
   ],
   "source": [
    "thistuple = (\"german\", \"french\", \"hindi\", \"marathi\", \"english\")\n",
    "print(thistuple)\n",
    "thistuple = (\"german\", \"french\", \"hindi\", \"marathi\", \"english\")\n",
    "print(thistuple[2:5])\n",
    "thistuple = (\"german\", \"french\", \"hindi\", \"marathi\", \"english\")\n",
    "print(thistuple[0])\n",
    "thistuple = (\"german\", \"french\", \"hindi\", \"marathi\", \"english\")\n",
    "print(len(thistuple))\n",
    "thattuple = (1, 2 ,3 ,4, 5)\n",
    "tuple1 = thistuple + thattuple\n",
    "print(tuple1)\n"
   ]
  },
  {
   "cell_type": "markdown",
   "metadata": {},
   "source": [
    "Dictionary"
   ]
  },
  {
   "cell_type": "code",
   "execution_count": 27,
   "metadata": {},
   "outputs": [
    {
     "name": "stdout",
     "output_type": "stream",
     "text": [
      "{'fname': 'Anna', 'age': 25, 'education': 'B.tech'}\n",
      "<class 'dict'>\n",
      "{'fname': 'Anna', 'age': 20, 'education': 'B.tech'}\n",
      "{'fname': 'Anna', 'age': 20, 'education': 'B.tech', 'color': 'blue'}\n",
      "{'fname': 'Anna', 'education': 'B.tech', 'color': 'blue'}\n",
      "<class 'dict'>\n"
     ]
    }
   ],
   "source": [
    "mydictionary= {\"fname\":\"Anna\", \"age\": 25, \"education\": \"B.tech\"}\n",
    "print(mydictionary)\n",
    "print(type(mydictionary))\n",
    "mydictionary= {\"fname\":\"Anna\", \"age\": 25, \"education\": \"B.tech\"}\n",
    "mydictionary.update({\"age\": 20})\n",
    "print(mydictionary)\n",
    "mydictionary[\"color\"] = \"blue\"\n",
    "print(mydictionary)\n",
    "mydictionary.pop(\"age\")\n",
    "print(mydictionary)\n",
    "\n",
    "thisdict = {\n",
    "  \"brand\": \"Ford\",\n",
    "  \"model\": \"Mustang\",\n",
    "  \"year\": 1964\n",
    "}\n",
    "print(type(thisdict))"
   ]
  }
 ],
 "metadata": {
  "kernelspec": {
   "display_name": "Python 3",
   "language": "python",
   "name": "python3"
  },
  "language_info": {
   "codemirror_mode": {
    "name": "ipython",
    "version": 3
   },
   "file_extension": ".py",
   "mimetype": "text/x-python",
   "name": "python",
   "nbconvert_exporter": "python",
   "pygments_lexer": "ipython3",
   "version": "3.8.5"
  }
 },
 "nbformat": 4,
 "nbformat_minor": 4
}
